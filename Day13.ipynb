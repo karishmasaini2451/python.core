{
 "cells": [
  {
   "cell_type": "markdown",
   "id": "b23da666",
   "metadata": {},
   "source": [
    "Assuming that we have some email addresses in the \"username@companyname.com\"\n",
    "format, please write program to print the user name of a given email address.\n",
    "Both user names and company names are composed of letters only. \n",
    "If the following email address is given as input to the program: Chandra@gdhdhtc.com Then, the output of the program \n",
    "should be: Chandra"
   ]
  },
  {
   "cell_type": "code",
   "execution_count": 1,
   "id": "d81170aa",
   "metadata": {},
   "outputs": [
    {
     "name": "stdout",
     "output_type": "stream",
     "text": [
      "enter a email add: Chandra@gdhdhtc.com\n",
      "Chandra"
     ]
    }
   ],
   "source": [
    "email  = input('enter a email add: ')\n",
    "for i in email:\n",
    "    if i =='@':\n",
    "        break\n",
    "        \n",
    "    print(i,end ='')\n",
    "    "
   ]
  },
  {
   "cell_type": "markdown",
   "id": "f015e87e",
   "metadata": {},
   "source": [
    "Write a program which accepts a sequence of words separated by whitespace as input to print the words\n",
    "composed of digits only. \n",
    "If the following words are given as input to the program: 2 cats and 3 dogs.\n",
    "Then, the output of the program should be: ['2', '3']"
   ]
  },
  {
   "cell_type": "code",
   "execution_count": 2,
   "id": "1b142ea4",
   "metadata": {},
   "outputs": [
    {
     "name": "stdout",
     "output_type": "stream",
     "text": [
      "enter a word: 2 cats and 3 dogs.\n"
     ]
    },
    {
     "data": {
      "text/plain": [
       "['2', '3']"
      ]
     },
     "execution_count": 2,
     "metadata": {},
     "output_type": "execute_result"
    }
   ],
   "source": [
    "word = input('enter a word: ')\n",
    "l =[]\n",
    "for i in word:\n",
    "    if i.isdigit():\n",
    "        l.append(i)\n",
    "l"
   ]
  }
 ],
 "metadata": {
  "kernelspec": {
   "display_name": "Python 3",
   "language": "python",
   "name": "python3"
  },
  "language_info": {
   "codemirror_mode": {
    "name": "ipython",
    "version": 3
   },
   "file_extension": ".py",
   "mimetype": "text/x-python",
   "name": "python",
   "nbconvert_exporter": "python",
   "pygments_lexer": "ipython3",
   "version": "3.8.8"
  }
 },
 "nbformat": 4,
 "nbformat_minor": 5
}
