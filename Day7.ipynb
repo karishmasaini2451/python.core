{
 "cells": [
  {
   "cell_type": "markdown",
   "id": "bf8ef1f3",
   "metadata": {},
   "source": [
    " Define a function which can generate a list where the values are square of numbers\n",
    "between 1 and 20 (both included). Then the function needs to print the first 5 elements in the list. \n"
   ]
  },
  {
   "cell_type": "code",
   "execution_count": 2,
   "id": "de41a111",
   "metadata": {},
   "outputs": [
    {
     "name": "stdout",
     "output_type": "stream",
     "text": [
      "[1, 4, 9, 16, 25, 36, 49, 64, 81, 100, 121, 144, 169, 196, 225, 256, 289, 324, 361, 400]\n",
      "[1, 4, 9, 16, 25]\n"
     ]
    }
   ],
   "source": [
    "l=[]\n",
    "for i in range(1,21):\n",
    "    l.append(i*i)\n",
    "print(l)\n",
    "print(l[:5])\n"
   ]
  },
  {
   "cell_type": "markdown",
   "id": "30c793c9",
   "metadata": {},
   "source": [
    "39. Define a function which can generate a list where the values are square of numbers between\n",
    "1 and 20 (both included). Then the function needs to print the last 5 elements in the list. \n"
   ]
  },
  {
   "cell_type": "code",
   "execution_count": 3,
   "id": "8a82922a",
   "metadata": {},
   "outputs": [
    {
     "name": "stdout",
     "output_type": "stream",
     "text": [
      "[1, 4, 9, 16, 25, 36, 49, 64, 81, 100, 121, 144, 169, 196, 225, 256, 289, 324, 361, 400]\n",
      "[256, 289, 324, 361, 400]\n"
     ]
    }
   ],
   "source": [
    "l = []\n",
    "for i in range(1,21):\n",
    "    l.append(i*i)\n",
    "print(l)    \n",
    "print(l[-5:])\n"
   ]
  }
 ],
 "metadata": {
  "kernelspec": {
   "display_name": "Python 3",
   "language": "python",
   "name": "python3"
  },
  "language_info": {
   "codemirror_mode": {
    "name": "ipython",
    "version": 3
   },
   "file_extension": ".py",
   "mimetype": "text/x-python",
   "name": "python",
   "nbconvert_exporter": "python",
   "pygments_lexer": "ipython3",
   "version": "3.8.8"
  }
 },
 "nbformat": 4,
 "nbformat_minor": 5
}
