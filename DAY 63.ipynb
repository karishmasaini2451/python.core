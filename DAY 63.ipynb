{
 "cells": [
  {
   "cell_type": "markdown",
   "id": "2493e876",
   "metadata": {},
   "source": [
    "Write a Python program to find palindromes in a given list of strings using Lambda."
   ]
  },
  {
   "cell_type": "code",
   "execution_count": 1,
   "id": "9302d001",
   "metadata": {},
   "outputs": [
    {
     "data": {
      "text/plain": [
       "['nitin', 'kkkk']"
      ]
     },
     "execution_count": 1,
     "metadata": {},
     "output_type": "execute_result"
    }
   ],
   "source": [
    "n = ['nitin','tom','kkkk','hello']\n",
    "list(filter(lambda x: x==''.join(reversed(x)),n))"
   ]
  },
  {
   "cell_type": "markdown",
   "id": "0b5ffab5",
   "metadata": {},
   "source": [
    "Accept five sports names from the user and write in a file “sport.txt” (each name should write in separate line).then add two more names to the files ."
   ]
  },
  {
   "cell_type": "code",
   "execution_count": 2,
   "id": "1ee0f622",
   "metadata": {},
   "outputs": [],
   "source": [
    "with open('sport.txt','x')as f:\n",
    "    f.writelines(['badminton\\n','cricket\\n','hockey\\n','football\\n','basketball\\n'])"
   ]
  },
  {
   "cell_type": "code",
   "execution_count": 4,
   "id": "9cdfe49c",
   "metadata": {},
   "outputs": [],
   "source": [
    "with open('sport.txt','a')as f:\n",
    "     f.writelines(['volleyball\\n','tennis\\n'])"
   ]
  },
  {
   "cell_type": "code",
   "execution_count": 3,
   "id": "86d67a78",
   "metadata": {},
   "outputs": [
    {
     "name": "stdout",
     "output_type": "stream",
     "text": [
      "badminton\n",
      "cricket\n",
      "hockey\n",
      "football\n",
      "basketball\n",
      "\n"
     ]
    }
   ],
   "source": [
    "with open('sport.txt','r')as f:\n",
    "    print(f.read())"
   ]
  }
 ],
 "metadata": {
  "kernelspec": {
   "display_name": "Python 3",
   "language": "python",
   "name": "python3"
  },
  "language_info": {
   "codemirror_mode": {
    "name": "ipython",
    "version": 3
   },
   "file_extension": ".py",
   "mimetype": "text/x-python",
   "name": "python",
   "nbconvert_exporter": "python",
   "pygments_lexer": "ipython3",
   "version": "3.8.8"
  }
 },
 "nbformat": 4,
 "nbformat_minor": 5
}
