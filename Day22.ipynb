{
 "cells": [
  {
   "cell_type": "markdown",
   "id": "d3fccd8a",
   "metadata": {},
   "source": [
    "Write a Python program to clone or copy a list"
   ]
  },
  {
   "cell_type": "code",
   "execution_count": 1,
   "id": "1e2d71d6",
   "metadata": {},
   "outputs": [
    {
     "name": "stdout",
     "output_type": "stream",
     "text": [
      "[1, 2, 3, 4, 5, 6]\n",
      "[1, 2, 3, 4, 5, 6]\n"
     ]
    }
   ],
   "source": [
    "original_list = [1,2,3,4,5,6]\n",
    "new_list =original_list\n",
    "print(original_list)\n",
    "print(new_list)"
   ]
  },
  {
   "cell_type": "markdown",
   "id": "8dcf825a",
   "metadata": {},
   "source": [
    " Write a Python function that takes two lists and returns True if \n",
    "they have at least one common member."
   ]
  },
  {
   "cell_type": "code",
   "execution_count": 2,
   "id": "edf2f289",
   "metadata": {},
   "outputs": [
    {
     "name": "stdout",
     "output_type": "stream",
     "text": [
      "True\n"
     ]
    }
   ],
   "source": [
    "def func(n,m):\n",
    "    for i in n:\n",
    "        for j in m:\n",
    "            if i==j:\n",
    "                result = True\n",
    "                return result\n",
    "        \n",
    "print(func([1,2,3,4,5],[6,7,8,9,5]))\n"
   ]
  }
 ],
 "metadata": {
  "kernelspec": {
   "display_name": "Python 3",
   "language": "python",
   "name": "python3"
  },
  "language_info": {
   "codemirror_mode": {
    "name": "ipython",
    "version": 3
   },
   "file_extension": ".py",
   "mimetype": "text/x-python",
   "name": "python",
   "nbconvert_exporter": "python",
   "pygments_lexer": "ipython3",
   "version": "3.8.8"
  }
 },
 "nbformat": 4,
 "nbformat_minor": 5
}
