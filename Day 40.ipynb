{
 "cells": [
  {
   "cell_type": "markdown",
   "id": "d4eb6d88",
   "metadata": {},
   "source": [
    "Define a function that accepts 2 values and return its sum, subtraction and multiplication."
   ]
  },
  {
   "cell_type": "code",
   "execution_count": 1,
   "id": "95574c43",
   "metadata": {},
   "outputs": [
    {
     "data": {
      "text/plain": [
       "(15, 50, 5)"
      ]
     },
     "execution_count": 1,
     "metadata": {},
     "output_type": "execute_result"
    }
   ],
   "source": [
    "def func(x,y):\n",
    "    s= x+y\n",
    "    m= x*y\n",
    "    sub=x-y\n",
    "    return s,m,sub\n",
    "    \n",
    "func(10,5)"
   ]
  }
 ],
 "metadata": {
  "kernelspec": {
   "display_name": "Python 3",
   "language": "python",
   "name": "python3"
  },
  "language_info": {
   "codemirror_mode": {
    "name": "ipython",
    "version": 3
   },
   "file_extension": ".py",
   "mimetype": "text/x-python",
   "name": "python",
   "nbconvert_exporter": "python",
   "pygments_lexer": "ipython3",
   "version": "3.8.8"
  }
 },
 "nbformat": 4,
 "nbformat_minor": 5
}
