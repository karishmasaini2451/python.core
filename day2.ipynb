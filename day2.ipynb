{
 "cells": [
  {
   "cell_type": "markdown",
   "id": "8a7738bc",
   "metadata": {},
   "source": [
    " Write a program that accepts a comma separated sequence of words as \n",
    "input and prints the words in a comma-separated sequence after sorting them alphabetically. \n"
   ]
  },
  {
   "cell_type": "code",
   "execution_count": 1,
   "id": "34a21cba",
   "metadata": {},
   "outputs": [
    {
     "name": "stdout",
     "output_type": "stream",
     "text": [
      "enter a word:banana,apple\n",
      "apple , banana\n"
     ]
    }
   ],
   "source": [
    "n = input('enter a word:').split(',')\n",
    "l =[]\n",
    "for i in n:\n",
    "    l.append(i)\n",
    "    l.sort()\n",
    "    \n",
    "print(' , '.join(l))\n",
    "    "
   ]
  },
  {
   "cell_type": "markdown",
   "id": "c86279a0",
   "metadata": {},
   "source": [
    "Write a program that accepts sequence of lines as input and\n",
    "prints the lines after making all characters in the sentence capitalized."
   ]
  },
  {
   "cell_type": "code",
   "execution_count": 2,
   "id": "e5332a72",
   "metadata": {},
   "outputs": [
    {
     "name": "stdout",
     "output_type": "stream",
     "text": [
      "enter a sentence:karishma saini\n",
      "KARISHMA SAINI\n"
     ]
    }
   ],
   "source": [
    "n= input('enter a sentence:')\n",
    "print(n.upper())\n"
   ]
  },
  {
   "cell_type": "markdown",
   "id": "0141db18",
   "metadata": {},
   "source": [
    "Write a program that accepts a sequence of whitespace separated words as input and prints the words after removing \n",
    "all duplicate words and sorting them alphanumerically."
   ]
  },
  {
   "cell_type": "code",
   "execution_count": 3,
   "id": "9705d998",
   "metadata": {},
   "outputs": [
    {
     "name": "stdout",
     "output_type": "stream",
     "text": [
      "enter a words:hello world practice makes the perfect\n",
      "hello makes perfect practice the world\n"
     ]
    }
   ],
   "source": [
    "n = input('enter a words:').split(' ')\n",
    "l=[]\n",
    "for i in n:\n",
    "    if i not in l:\n",
    "        l.append(i)\n",
    "        l.sort()\n",
    "\n",
    "print(' '.join(l))\n"
   ]
  }
 ],
 "metadata": {
  "kernelspec": {
   "display_name": "Python 3",
   "language": "python",
   "name": "python3"
  },
  "language_info": {
   "codemirror_mode": {
    "name": "ipython",
    "version": 3
   },
   "file_extension": ".py",
   "mimetype": "text/x-python",
   "name": "python",
   "nbconvert_exporter": "python",
   "pygments_lexer": "ipython3",
   "version": "3.8.8"
  }
 },
 "nbformat": 4,
 "nbformat_minor": 5
}
