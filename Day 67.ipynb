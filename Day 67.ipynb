{
 "cells": [
  {
   "cell_type": "markdown",
   "id": "74281f3a",
   "metadata": {},
   "source": [
    "Write a Python program to construct the following pattern, using a nested for loop.\n",
    "\n",
    "o\n",
    "o  o\n",
    "o  o  o\n",
    "o  o  o  o\n",
    "o  o  o  o  o\n",
    "o  o  o  o\n",
    "o  o  o\n",
    "o  o\n",
    "o"
   ]
  },
  {
   "cell_type": "code",
   "execution_count": 2,
   "id": "af529d84",
   "metadata": {
    "scrolled": true
   },
   "outputs": [
    {
     "name": "stdout",
     "output_type": "stream",
     "text": [
      "o \n",
      "o o \n",
      "o o o \n",
      "o o o o \n",
      "o o o o o \n",
      "o o o o \n",
      "o o o \n",
      "o o \n",
      "o \n"
     ]
    }
   ],
   "source": [
    "for i in range(1, 6):\n",
    "    for j in range(1, i + 1):\n",
    "        print ('o', end = ' ')\n",
    "    print ('')\n",
    "    \n",
    "for k in range(4, 0, -1):\n",
    "    for l in range(k):\n",
    "        print ('o', end = ' ')\n",
    "    print ('')"
   ]
  }
 ],
 "metadata": {
  "kernelspec": {
   "display_name": "Python 3",
   "language": "python",
   "name": "python3"
  },
  "language_info": {
   "codemirror_mode": {
    "name": "ipython",
    "version": 3
   },
   "file_extension": ".py",
   "mimetype": "text/x-python",
   "name": "python",
   "nbconvert_exporter": "python",
   "pygments_lexer": "ipython3",
   "version": "3.8.8"
  }
 },
 "nbformat": 4,
 "nbformat_minor": 5
}
