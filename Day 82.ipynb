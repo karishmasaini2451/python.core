{
 "cells": [
  {
   "cell_type": "markdown",
   "id": "9395344a",
   "metadata": {},
   "source": [
    "Write a Python program to find the values of length six in a given list using Lambda.\n",
    "Sample Output:\n",
    "\n",
    "Monday\n",
    "Friday\n",
    "Sunday"
   ]
  },
  {
   "cell_type": "code",
   "execution_count": 1,
   "id": "64d12f9c",
   "metadata": {},
   "outputs": [
    {
     "name": "stdout",
     "output_type": "stream",
     "text": [
      "Monday\n",
      "Friday\n",
      "Sunday\n"
     ]
    }
   ],
   "source": [
    "weekdays = ['Monday', 'Tuesday', 'Wednesday', 'Thursday', 'Friday', 'Saturday', 'Sunday']\n",
    "\n",
    "w = filter(lambda x:len(x) == 6, weekdays)\n",
    "\n",
    "for i in w:    \n",
    "    print (i)"
   ]
  }
 ],
 "metadata": {
  "kernelspec": {
   "display_name": "Python 3",
   "language": "python",
   "name": "python3"
  },
  "language_info": {
   "codemirror_mode": {
    "name": "ipython",
    "version": 3
   },
   "file_extension": ".py",
   "mimetype": "text/x-python",
   "name": "python",
   "nbconvert_exporter": "python",
   "pygments_lexer": "ipython3",
   "version": "3.8.8"
  }
 },
 "nbformat": 4,
 "nbformat_minor": 5
}
