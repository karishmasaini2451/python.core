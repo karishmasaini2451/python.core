{
 "cells": [
  {
   "cell_type": "markdown",
   "id": "8750ffae",
   "metadata": {},
   "source": [
    "Write a Python program to calculate the sum and average of n integer numbers (input from the user). Input 0 to finish."
   ]
  },
  {
   "cell_type": "code",
   "execution_count": 1,
   "id": "7e0ca283",
   "metadata": {},
   "outputs": [
    {
     "name": "stdout",
     "output_type": "stream",
     "text": [
      "Input some integers to calculate their sum and average. Input 0 to exit.\n",
      "1\n",
      "23\n",
      "45\n",
      "65\n",
      "0\n",
      "Sum : 134 and Average : 33.5\n"
     ]
    }
   ],
   "source": [
    "def sum_avg():\n",
    "    print ('Input some integers to calculate their sum and average. Input 0 to exit.')\n",
    "    number = 1\n",
    "    sum = 0\n",
    "    count = 0\n",
    "    \n",
    "    while number != 0:\n",
    "        number = int(input(''))\n",
    "        sum = sum + number\n",
    "        count += 1\n",
    "        \n",
    "    if count == 0:\n",
    "        print ('Input some numbers')\n",
    "    \n",
    "    else:\n",
    "        print (f'Sum : {sum} and Average : {round((sum / (count - 1)), 2)}')\n",
    "\n",
    "sum_avg()   "
   ]
  }
 ],
 "metadata": {
  "kernelspec": {
   "display_name": "Python 3",
   "language": "python",
   "name": "python3"
  },
  "language_info": {
   "codemirror_mode": {
    "name": "ipython",
    "version": 3
   },
   "file_extension": ".py",
   "mimetype": "text/x-python",
   "name": "python",
   "nbconvert_exporter": "python",
   "pygments_lexer": "ipython3",
   "version": "3.8.8"
  }
 },
 "nbformat": 4,
 "nbformat_minor": 5
}
