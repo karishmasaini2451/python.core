{
 "cells": [
  {
   "cell_type": "markdown",
   "id": "cfa6a165",
   "metadata": {},
   "source": [
    "Write a program that computes the net amount of a bank account based a transaction log from console input. The transaction log format is shown as following:\n",
    "D 100\n",
    "W 200\n",
    "D means deposit while W means withdrawal.\n",
    "Suppose the input is supplied to the program:\n",
    "D 300\n",
    "\n",
    "D 300\n",
    "W 200\n",
    "D 100\n",
    "Then, the output should be: 500"
   ]
  },
  {
   "cell_type": "code",
   "execution_count": 4,
   "id": "58194eb4",
   "metadata": {},
   "outputs": [
    {
     "name": "stdout",
     "output_type": "stream",
     "text": [
      "Enter deposite amount: 700\n",
      "Enter withdraw amount: 200\n"
     ]
    }
   ],
   "source": [
    "d = input('Enter deposite amount: ').split(',')\n",
    "w = input('Enter withdraw amount: ').split(',')\n",
    "bal = 0"
   ]
  },
  {
   "cell_type": "code",
   "execution_count": 5,
   "id": "b32fae4f",
   "metadata": {},
   "outputs": [
    {
     "name": "stdout",
     "output_type": "stream",
     "text": [
      "500\n"
     ]
    }
   ],
   "source": [
    "d_sum = 0\n",
    "w_sum = 0\n",
    "\n",
    "for i in d:\n",
    "    x = int(i)\n",
    "    d_sum += x\n",
    "    \n",
    "for j in w:\n",
    "    y = int(j)\n",
    "    w_sum += y\n",
    "\n",
    "bal = d_sum - w_sum\n",
    "print (bal)"
   ]
  }
 ],
 "metadata": {
  "kernelspec": {
   "display_name": "Python 3",
   "language": "python",
   "name": "python3"
  },
  "language_info": {
   "codemirror_mode": {
    "name": "ipython",
    "version": 3
   },
   "file_extension": ".py",
   "mimetype": "text/x-python",
   "name": "python",
   "nbconvert_exporter": "python",
   "pygments_lexer": "ipython3",
   "version": "3.8.8"
  }
 },
 "nbformat": 4,
 "nbformat_minor": 5
}
