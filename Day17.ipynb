{
 "cells": [
  {
   "cell_type": "markdown",
   "id": "5831e2fe",
   "metadata": {},
   "source": [
    " Create a dictionary with phone numbers (phonebook = {“John”: 938477566, \"Jack”: 938377264, \"Jill”: 947662781}). \n",
    "Add \"Jake\" to the phonebook with the phone number 938273443, and remove Jill from the phonebook."
   ]
  },
  {
   "cell_type": "code",
   "execution_count": 1,
   "id": "3f78de74",
   "metadata": {},
   "outputs": [
    {
     "name": "stdout",
     "output_type": "stream",
     "text": [
      "{'John': 938477566, 'Jack': 938377264, 'Jill': 947662781, 'jake': 938273443}\n"
     ]
    }
   ],
   "source": [
    "#adding jake\n",
    "phonebook = {'John': 938477566, 'Jack': 938377264, 'Jill': 947662781}\n",
    "phonebook.update({'jake':938273443})\n",
    "print(phonebook)"
   ]
  },
  {
   "cell_type": "code",
   "execution_count": 2,
   "id": "3b9d10fc",
   "metadata": {},
   "outputs": [
    {
     "name": "stdout",
     "output_type": "stream",
     "text": [
      "{'John': 938477566, 'Jack': 938377264, 'jake': 938273443}\n"
     ]
    }
   ],
   "source": [
    "#removing jill\n",
    "phonebook.pop('Jill')\n",
    "print(phonebook)"
   ]
  },
  {
   "cell_type": "markdown",
   "id": "52a5dfb1",
   "metadata": {},
   "source": [
    "write a function to convert degree cel to degree farh."
   ]
  },
  {
   "cell_type": "code",
   "execution_count": 3,
   "id": "a7f9665a",
   "metadata": {},
   "outputs": [
    {
     "data": {
      "text/plain": [
       "32.0"
      ]
     },
     "execution_count": 3,
     "metadata": {},
     "output_type": "execute_result"
    }
   ],
   "source": [
    "def convert(c):\n",
    "    return ((9/5*c))+32\n",
    "\n",
    "convert(0)\n"
   ]
  }
 ],
 "metadata": {
  "kernelspec": {
   "display_name": "Python 3",
   "language": "python",
   "name": "python3"
  },
  "language_info": {
   "codemirror_mode": {
    "name": "ipython",
    "version": 3
   },
   "file_extension": ".py",
   "mimetype": "text/x-python",
   "name": "python",
   "nbconvert_exporter": "python",
   "pygments_lexer": "ipython3",
   "version": "3.8.8"
  }
 },
 "nbformat": 4,
 "nbformat_minor": 5
}
