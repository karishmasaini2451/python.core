{
 "cells": [
  {
   "cell_type": "markdown",
   "id": "95acbaa2",
   "metadata": {},
   "source": [
    "Write a Python program to find intersection of two given arrays using Lambda.\n",
    "Original arrays:\n",
    "[1, 2, 3, 5, 7, 8, 9, 10]\n",
    "[1, 2, 4, 8, 9]\n",
    "Intersection of the said arrays: [1, 2, 8, 9]"
   ]
  },
  {
   "cell_type": "code",
   "execution_count": 1,
   "id": "97e29bcb",
   "metadata": {},
   "outputs": [
    {
     "name": "stdout",
     "output_type": "stream",
     "text": [
      "Original arrays:\n",
      "[1, 2, 3, 5, 7, 8, 9, 10]\n",
      "[1, 2, 4, 8, 9]\n",
      "\n",
      "Intersection of the said arrays: [1, 2, 8, 9]\n"
     ]
    }
   ],
   "source": [
    "print ('Original arrays:')\n",
    "print ('[1, 2, 3, 5, 7, 8, 9, 10]')\n",
    "print ('[1, 2, 4, 8, 9]')\n",
    "\n",
    "print ('\\nIntersection of the said arrays:', list(filter(lambda x:x in [1, 2, 3, 5, 7, 8, 9, 10], [1, 2, 4, 8, 9])))"
   ]
  }
 ],
 "metadata": {
  "kernelspec": {
   "display_name": "Python 3",
   "language": "python",
   "name": "python3"
  },
  "language_info": {
   "codemirror_mode": {
    "name": "ipython",
    "version": 3
   },
   "file_extension": ".py",
   "mimetype": "text/x-python",
   "name": "python",
   "nbconvert_exporter": "python",
   "pygments_lexer": "ipython3",
   "version": "3.8.8"
  }
 },
 "nbformat": 4,
 "nbformat_minor": 5
}
