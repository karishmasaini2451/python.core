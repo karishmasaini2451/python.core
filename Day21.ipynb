{
 "cells": [
  {
   "cell_type": "markdown",
   "id": "8478a908",
   "metadata": {},
   "source": [
    " Write a Python program to count the number of strings where the string length is 2 \n",
    "or more and the first and last character are same from a given list of strings"
   ]
  },
  {
   "cell_type": "code",
   "execution_count": 1,
   "id": "2b7c8662",
   "metadata": {},
   "outputs": [
    {
     "data": {
      "text/plain": [
       "2"
      ]
     },
     "execution_count": 1,
     "metadata": {},
     "output_type": "execute_result"
    }
   ],
   "source": [
    "def func(n):\n",
    "    count=0\n",
    "    for i in n:\n",
    "        if len(i)>=2 and  i[0]== i[-1]:\n",
    "            count = count+1\n",
    "    return count\n",
    "        \n",
    "func(['abc','xyz','aba','1221'])"
   ]
  },
  {
   "cell_type": "markdown",
   "id": "4675971a",
   "metadata": {},
   "source": [
    "Write a Python program to get a list, sorted in increasing order by the last element\n",
    "in each tuple from a given list of non-empty tuples. \n",
    "Sample List : [(2, 5), (1, 2), (4, 4), (2, 3), (2, 1)]"
   ]
  },
  {
   "cell_type": "code",
   "execution_count": 2,
   "id": "cf1b8225",
   "metadata": {},
   "outputs": [
    {
     "data": {
      "text/plain": [
       "[(4, 4), (2, 5), (2, 3), (2, 1), (1, 2)]"
      ]
     },
     "execution_count": 2,
     "metadata": {},
     "output_type": "execute_result"
    }
   ],
   "source": [
    "n=[(2, 5), (1, 2), (4, 4), (2, 3), (2, 1)]\n",
    "sorted(n,key=lambda x :x,reverse = True)"
   ]
  }
 ],
 "metadata": {
  "kernelspec": {
   "display_name": "Python 3",
   "language": "python",
   "name": "python3"
  },
  "language_info": {
   "codemirror_mode": {
    "name": "ipython",
    "version": 3
   },
   "file_extension": ".py",
   "mimetype": "text/x-python",
   "name": "python",
   "nbconvert_exporter": "python",
   "pygments_lexer": "ipython3",
   "version": "3.8.8"
  }
 },
 "nbformat": 4,
 "nbformat_minor": 5
}
