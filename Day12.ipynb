{
 "cells": [
  {
   "cell_type": "markdown",
   "id": "b29d154b",
   "metadata": {},
   "source": [
    "Define a class named Rectangle which can be constructed by a length and width. \n",
    "The Rectangle class has a method which can compute the area."
   ]
  },
  {
   "cell_type": "code",
   "execution_count": 1,
   "id": "55a02afb",
   "metadata": {},
   "outputs": [
    {
     "name": "stdout",
     "output_type": "stream",
     "text": [
      "the area of the rectangle: 12\n"
     ]
    }
   ],
   "source": [
    "class rectangle():\n",
    "    def __init__(self,lenght,breadth):\n",
    "        self.lenght = lenght\n",
    "        self.breadth = breadth\n",
    "    \n",
    "    \n",
    "    def area(self):\n",
    "        a = self.lenght* self.breadth\n",
    "        print('the area of the rectangle:',a)\n",
    "        \n",
    "obj = rectangle(3,4)\n",
    "obj.area()"
   ]
  },
  {
   "cell_type": "markdown",
   "id": "9972cdcc",
   "metadata": {},
   "source": [
    "Define a class named Shape and its subclass Square. \n",
    "The Square class has an init function which takes a length as argument. Both classes have a area function \n",
    "which can print the area \n",
    "of the shape where Shape's area is 0 by default."
   ]
  },
  {
   "cell_type": "code",
   "execution_count": 4,
   "id": "771bed47",
   "metadata": {},
   "outputs": [
    {
     "name": "stdout",
     "output_type": "stream",
     "text": [
      "the area of the square: 16\n"
     ]
    }
   ],
   "source": [
    "class shape():\n",
    "    def __init__(self):\n",
    "        pass\n",
    "    \n",
    "    def area(self):\n",
    "        return 0\n",
    "    \n",
    "class square(shape):\n",
    "    def __init__(self,lenght):\n",
    "        self.lenght = lenght\n",
    "        \n",
    "    def area(self):\n",
    "        area = self.lenght * self.lenght\n",
    "        print('the area of the square:',area)\n",
    "    \n",
    "obj = square(4)\n",
    "obj.area()\n",
    "    \n",
    "    "
   ]
  }
 ],
 "metadata": {
  "kernelspec": {
   "display_name": "Python 3",
   "language": "python",
   "name": "python3"
  },
  "language_info": {
   "codemirror_mode": {
    "name": "ipython",
    "version": 3
   },
   "file_extension": ".py",
   "mimetype": "text/x-python",
   "name": "python",
   "nbconvert_exporter": "python",
   "pygments_lexer": "ipython3",
   "version": "3.8.8"
  }
 },
 "nbformat": 4,
 "nbformat_minor": 5
}
