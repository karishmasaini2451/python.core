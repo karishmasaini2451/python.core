{
 "cells": [
  {
   "cell_type": "markdown",
   "id": "7a46d980",
   "metadata": {},
   "source": [
    "Write a Python program to count the even, odd numbers in a given array of integers using Lambda.\n",
    "Original arrays:\n",
    "[1, 2, 3, 5, 7, 8, 9, 10]\n",
    "\n",
    "Number of even numbers in the above array: 3\n",
    "Number of odd numbers in the above array: 5"
   ]
  },
  {
   "cell_type": "code",
   "execution_count": 1,
   "id": "17f663e1",
   "metadata": {},
   "outputs": [
    {
     "name": "stdout",
     "output_type": "stream",
     "text": [
      "Original arrays:\n",
      "[1, 2, 3, 5, 7, 8, 9, 10]\n",
      "\n",
      "Number of even numbers in the above array: 3\n",
      "Number of odd numbers in the above array: 5\n"
     ]
    }
   ],
   "source": [
    "print ('Original arrays:')\n",
    "print ('[1, 2, 3, 5, 7, 8, 9, 10]')\n",
    "\n",
    "print ('\\nNumber of even numbers in the above array:', len(list(filter(lambda x:x % 2 == 0, [1, 2, 3, 5, 7, 8, 9, 10]))))\n",
    "print ('Number of odd numbers in the above array:', len(list(filter(lambda x:x % 2 != 0, [1, 2, 3, 5, 7, 8, 9, 10]))))"
   ]
  }
 ],
 "metadata": {
  "kernelspec": {
   "display_name": "Python 3",
   "language": "python",
   "name": "python3"
  },
  "language_info": {
   "codemirror_mode": {
    "name": "ipython",
    "version": 3
   },
   "file_extension": ".py",
   "mimetype": "text/x-python",
   "name": "python",
   "nbconvert_exporter": "python",
   "pygments_lexer": "ipython3",
   "version": "3.8.8"
  }
 },
 "nbformat": 4,
 "nbformat_minor": 5
}
