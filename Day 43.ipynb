{
 "cells": [
  {
   "cell_type": "markdown",
   "id": "e480a9e2",
   "metadata": {},
   "source": [
    "Write a program to display the last digit of a number."
   ]
  },
  {
   "cell_type": "code",
   "execution_count": 1,
   "id": "143888cd",
   "metadata": {},
   "outputs": [
    {
     "name": "stdout",
     "output_type": "stream",
     "text": [
      "last digit 5\n"
     ]
    }
   ],
   "source": [
    "def func(n):\n",
    "    last_digit = n%10\n",
    "    print('last digit',last_digit)\n",
    "    \n",
    "func(12345)\n",
    "    "
   ]
  }
 ],
 "metadata": {
  "kernelspec": {
   "display_name": "Python 3",
   "language": "python",
   "name": "python3"
  },
  "language_info": {
   "codemirror_mode": {
    "name": "ipython",
    "version": 3
   },
   "file_extension": ".py",
   "mimetype": "text/x-python",
   "name": "python",
   "nbconvert_exporter": "python",
   "pygments_lexer": "ipython3",
   "version": "3.8.8"
  }
 },
 "nbformat": 4,
 "nbformat_minor": 5
}
