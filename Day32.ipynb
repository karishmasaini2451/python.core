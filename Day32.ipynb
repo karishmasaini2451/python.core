{
 "cells": [
  {
   "cell_type": "markdown",
   "id": "eb923399",
   "metadata": {},
   "source": [
    " Write a Python program to sum all the items in a list."
   ]
  },
  {
   "cell_type": "code",
   "execution_count": 1,
   "id": "2ac5fa3d",
   "metadata": {},
   "outputs": [
    {
     "name": "stdout",
     "output_type": "stream",
     "text": [
      "10\n"
     ]
    }
   ],
   "source": [
    "def sum_list(n):\n",
    "    sum_numbers=0\n",
    "    for  i in n:\n",
    "        sum_numbers=sum_numbers+i\n",
    "    print(sum_numbers)\n",
    "    \n",
    "sum_list([1,2,3,4])"
   ]
  }
 ],
 "metadata": {
  "kernelspec": {
   "display_name": "Python 3",
   "language": "python",
   "name": "python3"
  },
  "language_info": {
   "codemirror_mode": {
    "name": "ipython",
    "version": 3
   },
   "file_extension": ".py",
   "mimetype": "text/x-python",
   "name": "python",
   "nbconvert_exporter": "python",
   "pygments_lexer": "ipython3",
   "version": "3.8.8"
  }
 },
 "nbformat": 4,
 "nbformat_minor": 5
}
