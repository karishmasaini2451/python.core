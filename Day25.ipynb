{
 "cells": [
  {
   "cell_type": "markdown",
   "id": "2cc6ed1c",
   "metadata": {},
   "source": [
    "Write a Python program to convert a list of characters into a string."
   ]
  },
  {
   "cell_type": "code",
   "execution_count": 1,
   "id": "a5e7ec65",
   "metadata": {},
   "outputs": [
    {
     "name": "stdout",
     "output_type": "stream",
     "text": [
      "abcd\n"
     ]
    }
   ],
   "source": [
    "s=['a','b','c','d']\n",
    "str1= ''.join(s)\n",
    "print(str1)"
   ]
  },
  {
   "cell_type": "markdown",
   "id": "af07b62a",
   "metadata": {},
   "source": [
    "Write a Python program to append a list to the second list. "
   ]
  },
  {
   "cell_type": "code",
   "execution_count": 2,
   "id": "12c3db17",
   "metadata": {},
   "outputs": [
    {
     "name": "stdout",
     "output_type": "stream",
     "text": [
      "[12, 23, 34, 56, 1, 2, 3, 45]\n"
     ]
    }
   ],
   "source": [
    "x = [12,23,34,56]\n",
    "y = [1,2,3,45]\n",
    "z = x+y\n",
    "print(z)"
   ]
  }
 ],
 "metadata": {
  "kernelspec": {
   "display_name": "Python 3",
   "language": "python",
   "name": "python3"
  },
  "language_info": {
   "codemirror_mode": {
    "name": "ipython",
    "version": 3
   },
   "file_extension": ".py",
   "mimetype": "text/x-python",
   "name": "python",
   "nbconvert_exporter": "python",
   "pygments_lexer": "ipython3",
   "version": "3.8.8"
  }
 },
 "nbformat": 4,
 "nbformat_minor": 5
}
