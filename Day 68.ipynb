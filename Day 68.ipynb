{
 "cells": [
  {
   "cell_type": "markdown",
   "id": "541c6501",
   "metadata": {},
   "source": [
    "Write a Python program to get the Fibonacci series between 0 to 50.\n",
    "Note : The Fibonacci Sequence is the series of numbers :\n",
    "0, 1, 1, 2, 3, 5, 8, 13, 21, ....\n",
    "Every next number is found by adding up the two numbers before it.\n",
    "Expected Output :\n",
    "1 1 2 3 5 8 13 21 34"
   ]
  },
  {
   "cell_type": "code",
   "execution_count": 1,
   "id": "4dcf29b0",
   "metadata": {},
   "outputs": [
    {
     "name": "stdout",
     "output_type": "stream",
     "text": [
      "1 1 2 3 5 8 13 21 34 "
     ]
    }
   ],
   "source": [
    "a, b = 0, 1\n",
    "\n",
    "while b < 50:\n",
    "    print (b, end = ' ')\n",
    "    a, b = b, a + b"
   ]
  }
 ],
 "metadata": {
  "kernelspec": {
   "display_name": "Python 3",
   "language": "python",
   "name": "python3"
  },
  "language_info": {
   "codemirror_mode": {
    "name": "ipython",
    "version": 3
   },
   "file_extension": ".py",
   "mimetype": "text/x-python",
   "name": "python",
   "nbconvert_exporter": "python",
   "pygments_lexer": "ipython3",
   "version": "3.8.8"
  }
 },
 "nbformat": 4,
 "nbformat_minor": 5
}
