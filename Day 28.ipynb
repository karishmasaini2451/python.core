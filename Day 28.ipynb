{
 "cells": [
  {
   "cell_type": "markdown",
   "id": "dad55d7e",
   "metadata": {},
   "source": [
    "Write a Python program to find common items from two lists."
   ]
  },
  {
   "cell_type": "code",
   "execution_count": 1,
   "id": "5dc0ddb4",
   "metadata": {},
   "outputs": [
    {
     "name": "stdout",
     "output_type": "stream",
     "text": [
      "{1, 2, 3, 4, 5}\n"
     ]
    }
   ],
   "source": [
    "P=[1,2,3,4,5]\n",
    "Q=[1,2,3,4,5,6,6,7]\n",
    "a = set(P)\n",
    "b = set(Q)\n",
    "z= a.intersection(b)\n",
    "print(z)"
   ]
  },
  {
   "cell_type": "markdown",
   "id": "d5523efb",
   "metadata": {},
   "source": [
    "Write a Python program to insert an element before each element of a list. "
   ]
  },
  {
   "cell_type": "code",
   "execution_count": 2,
   "id": "17bac98b",
   "metadata": {},
   "outputs": [
    {
     "name": "stdout",
     "output_type": "stream",
     "text": [
      "original_list ['colour', 'blue', 'colour', 'black', 'colour', 'pink']\n"
     ]
    }
   ],
   "source": [
    "Q=['blue','black','pink']\n",
    "Q = [x for i in Q for x in('colour',i)]\n",
    "print('original_list',Q)"
   ]
  }
 ],
 "metadata": {
  "kernelspec": {
   "display_name": "Python 3",
   "language": "python",
   "name": "python3"
  },
  "language_info": {
   "codemirror_mode": {
    "name": "ipython",
    "version": 3
   },
   "file_extension": ".py",
   "mimetype": "text/x-python",
   "name": "python",
   "nbconvert_exporter": "python",
   "pygments_lexer": "ipython3",
   "version": "3.8.8"
  }
 },
 "nbformat": 4,
 "nbformat_minor": 5
}
