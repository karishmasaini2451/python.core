{
 "cells": [
  {
   "cell_type": "code",
   "execution_count": null,
   "id": "274c000a",
   "metadata": {},
   "outputs": [],
   "source": [
    "Write a program to accept the cost price of a bike and display the road tax to be paid according to the following criteria :\n",
    "Cost price (in Rs) Tax > 100000 15 % > 50000 and <= 100000 10% <= 50000 5%"
   ]
  },
  {
   "cell_type": "code",
   "execution_count": 1,
   "id": "8f7583da",
   "metadata": {},
   "outputs": [
    {
     "name": "stdout",
     "output_type": "stream",
     "text": [
      "enter the price of bike: 50000\n",
      "road tax: 2500.0\n"
     ]
    }
   ],
   "source": [
    "n = int(input('enter the price of bike: '))\n",
    "tax =0\n",
    "if n > 100000:\n",
    "    tax = 0.15*n\n",
    "elif n > 50000 and n <=100000:\n",
    "    tax = 0.1*n\n",
    "elif n <=50000:\n",
    "    tax=0.05*n\n",
    "    \n",
    "print('road tax:',tax)"
   ]
  },
  {
   "cell_type": "code",
   "execution_count": null,
   "id": "0e4efe09",
   "metadata": {},
   "outputs": [],
   "source": []
  }
 ],
 "metadata": {
  "kernelspec": {
   "display_name": "Python 3",
   "language": "python",
   "name": "python3"
  },
  "language_info": {
   "codemirror_mode": {
    "name": "ipython",
    "version": 3
   },
   "file_extension": ".py",
   "mimetype": "text/x-python",
   "name": "python",
   "nbconvert_exporter": "python",
   "pygments_lexer": "ipython3",
   "version": "3.8.8"
  }
 },
 "nbformat": 4,
 "nbformat_minor": 5
}
