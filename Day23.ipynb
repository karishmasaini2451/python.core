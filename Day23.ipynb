{
 "cells": [
  {
   "cell_type": "markdown",
   "id": "ab4cfb59",
   "metadata": {},
   "source": [
    "Write a Python program to print the numbers of a specified list after removing even numbers."
   ]
  },
  {
   "cell_type": "code",
   "execution_count": 1,
   "id": "016fe53f",
   "metadata": {},
   "outputs": [
    {
     "data": {
      "text/plain": [
       "[1, 3, 5]"
      ]
     },
     "execution_count": 1,
     "metadata": {},
     "output_type": "execute_result"
    }
   ],
   "source": [
    "l = [1,2,3,4,5,6]\n",
    "[i for i in l if i%2!=0]"
   ]
  },
  {
   "cell_type": "markdown",
   "id": "e446da41",
   "metadata": {},
   "source": [
    "write a Python program to generate and print a list of first and last 5 elements \n",
    "where the values are square of numbers between 1 and 30 (both included)"
   ]
  },
  {
   "cell_type": "code",
   "execution_count": 3,
   "id": "2b36dd08",
   "metadata": {},
   "outputs": [
    {
     "name": "stdout",
     "output_type": "stream",
     "text": [
      "[1, 4, 9, 16, 25]\n",
      "[676, 729, 784, 841, 900]\n"
     ]
    }
   ],
   "source": [
    "def func():\n",
    "    l=[]\n",
    "    \n",
    "    for i in range(1,31):\n",
    "        l.append(i**2)\n",
    "    print(l[:5])\n",
    "    print(l[-5:])\n",
    "    \n",
    "func()"
   ]
  }
 ],
 "metadata": {
  "kernelspec": {
   "display_name": "Python 3",
   "language": "python",
   "name": "python3"
  },
  "language_info": {
   "codemirror_mode": {
    "name": "ipython",
    "version": 3
   },
   "file_extension": ".py",
   "mimetype": "text/x-python",
   "name": "python",
   "nbconvert_exporter": "python",
   "pygments_lexer": "ipython3",
   "version": "3.8.8"
  }
 },
 "nbformat": 4,
 "nbformat_minor": 5
}
