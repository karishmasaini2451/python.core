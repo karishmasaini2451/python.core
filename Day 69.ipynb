{
 "cells": [
  {
   "cell_type": "markdown",
   "id": "acb87319",
   "metadata": {},
   "source": [
    "Write a Python program to check a string represent an integer or not.\n",
    "Expected Output :\n",
    "\n",
    "Input a string: Python\n",
    "The string is not an integer."
   ]
  },
  {
   "cell_type": "code",
   "execution_count": 1,
   "id": "f953556a",
   "metadata": {},
   "outputs": [
    {
     "name": "stdout",
     "output_type": "stream",
     "text": [
      "Input a string: python\n",
      "The string is not an integer.\n"
     ]
    }
   ],
   "source": [
    "def check_int():\n",
    "    s = input('Input a string: ')\n",
    "    s = s.strip()\n",
    "    \n",
    "    if len(s) < 1:\n",
    "        print ('Input a valid text')\n",
    "            \n",
    "    else:\n",
    "        if all(s[i] in '0123456789' for i in range(len(s))):\n",
    "            print ('The string is an integer.')\n",
    "            \n",
    "        elif (s[0] in '+-') and all(s[i] in '0123456789' for i in range(1, len(s))):\n",
    "            print ('The string is an integer.')\n",
    "            \n",
    "        else:\n",
    "            print ('The string is not an integer.') \n",
    "            \n",
    "check_int()"
   ]
  }
 ],
 "metadata": {
  "kernelspec": {
   "display_name": "Python 3",
   "language": "python",
   "name": "python3"
  },
  "language_info": {
   "codemirror_mode": {
    "name": "ipython",
    "version": 3
   },
   "file_extension": ".py",
   "mimetype": "text/x-python",
   "name": "python",
   "nbconvert_exporter": "python",
   "pygments_lexer": "ipython3",
   "version": "3.8.8"
  }
 },
 "nbformat": 4,
 "nbformat_minor": 5
}
