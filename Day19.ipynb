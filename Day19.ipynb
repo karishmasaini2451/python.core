{
 "cells": [
  {
   "cell_type": "markdown",
   "id": "df24bf8c",
   "metadata": {},
   "source": [
    " Write a Python program to sum all the items in a list."
   ]
  },
  {
   "cell_type": "code",
   "execution_count": 1,
   "id": "3f9297f1",
   "metadata": {},
   "outputs": [
    {
     "name": "stdout",
     "output_type": "stream",
     "text": [
      "10\n"
     ]
    }
   ],
   "source": [
    "def sum_list(n):\n",
    "    sum_numbers=0\n",
    "    for  i in n:\n",
    "        sum_numbers=sum_numbers+i\n",
    "    print(sum_numbers)\n",
    "    \n",
    "sum_list([1,2,3,4])"
   ]
  },
  {
   "cell_type": "markdown",
   "id": "bd52ad5b",
   "metadata": {},
   "source": [
    "Write a Python program to multiply all the items in a list"
   ]
  },
  {
   "cell_type": "code",
   "execution_count": null,
   "id": "84a8fc5e",
   "metadata": {},
   "outputs": [],
   "source": []
  }
 ],
 "metadata": {
  "kernelspec": {
   "display_name": "Python 3",
   "language": "python",
   "name": "python3"
  },
  "language_info": {
   "codemirror_mode": {
    "name": "ipython",
    "version": 3
   },
   "file_extension": ".py",
   "mimetype": "text/x-python",
   "name": "python",
   "nbconvert_exporter": "python",
   "pygments_lexer": "ipython3",
   "version": "3.8.8"
  }
 },
 "nbformat": 4,
 "nbformat_minor": 5
}
