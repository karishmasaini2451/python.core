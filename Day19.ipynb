{
 "cells": [
  {
   "cell_type": "markdown",
   "id": "067fc06b",
   "metadata": {},
   "source": [
    " Write a Python program to sum all the items in a list."
   ]
  },
  {
   "cell_type": "code",
   "execution_count": 1,
   "id": "039114f9",
   "metadata": {},
   "outputs": [
    {
     "name": "stdout",
     "output_type": "stream",
     "text": [
      "10\n"
     ]
    }
   ],
   "source": [
    "def sum_list(n):\n",
    "    sum_numbers=0\n",
    "    for  i in n:\n",
    "        sum_numbers=sum_numbers+i\n",
    "    print(sum_numbers)\n",
    "    \n",
    "sum_list([1,2,3,4])"
   ]
  },
  {
   "cell_type": "markdown",
   "id": "4dce1ed2",
   "metadata": {},
   "source": [
    "Write a Python program to multiply all the items in a list"
   ]
  },
  {
   "cell_type": "code",
   "execution_count": 3,
   "id": "9e8568c2",
   "metadata": {},
   "outputs": [
    {
     "name": "stdout",
     "output_type": "stream",
     "text": [
      "24\n"
     ]
    }
   ],
   "source": [
    "def multiply(n):\n",
    "    total =1\n",
    "    for i in n:\n",
    "        total=total*i\n",
    "    print(total)\n",
    "        \n",
    "multiply([1,2,3,4])"
   ]
  },
  {
   "cell_type": "code",
   "execution_count": null,
   "id": "6842d030",
   "metadata": {},
   "outputs": [],
   "source": []
  }
 ],
 "metadata": {
  "kernelspec": {
   "display_name": "Python 3",
   "language": "python",
   "name": "python3"
  },
  "language_info": {
   "codemirror_mode": {
    "name": "ipython",
    "version": 3
   },
   "file_extension": ".py",
   "mimetype": "text/x-python",
   "name": "python",
   "nbconvert_exporter": "python",
   "pygments_lexer": "ipython3",
   "version": "3.8.8"
  }
 },
 "nbformat": 4,
 "nbformat_minor": 5
}
