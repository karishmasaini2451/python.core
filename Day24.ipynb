{
 "cells": [
  {
   "cell_type": "markdown",
   "id": "38257949",
   "metadata": {},
   "source": [
    "Write a Python program to generate and print a list except for the first 5 elements, \n",
    "where the values are square of numbers between 1 and 30 (both included)."
   ]
  },
  {
   "cell_type": "code",
   "execution_count": 1,
   "id": "91ac986c",
   "metadata": {},
   "outputs": [
    {
     "name": "stdout",
     "output_type": "stream",
     "text": [
      "[36, 49, 64, 81, 100, 121, 144, 169, 196, 225, 256, 289, 324, 361, 400, 441, 484, 529, 576, 625, 676, 729, 784, 841, 900]\n"
     ]
    }
   ],
   "source": [
    "def func():\n",
    "    l=[]\n",
    "    for i in range(1,31):\n",
    "        l.append(i**2)\n",
    "    print(l[5:])\n",
    "        \n",
    "func()"
   ]
  },
  {
   "cell_type": "markdown",
   "id": "354e27fb",
   "metadata": {},
   "source": [
    "Write a Python program to get the difference between the two lists."
   ]
  },
  {
   "cell_type": "code",
   "execution_count": 2,
   "id": "3eabb6fe",
   "metadata": {},
   "outputs": [
    {
     "name": "stdout",
     "output_type": "stream",
     "text": [
      "{1, 2, 3, 4, 5, 6}\n",
      "{1, 2, 3, 4, 5}\n",
      "{6}\n"
     ]
    },
    {
     "data": {
      "text/plain": [
       "[6]"
      ]
     },
     "execution_count": 2,
     "metadata": {},
     "output_type": "execute_result"
    }
   ],
   "source": [
    "X=[1,2,3,4,5,6]\n",
    "Y=[1,2,3,4,5]\n",
    "a = set(X)\n",
    "print(a)\n",
    "b = set(Y)\n",
    "print(b)\n",
    "\n",
    "z =a.difference(b)\n",
    "print(z)\n",
    "\n",
    "\n",
    "list(z)"
   ]
  }
 ],
 "metadata": {
  "kernelspec": {
   "display_name": "Python 3",
   "language": "python",
   "name": "python3"
  },
  "language_info": {
   "codemirror_mode": {
    "name": "ipython",
    "version": 3
   },
   "file_extension": ".py",
   "mimetype": "text/x-python",
   "name": "python",
   "nbconvert_exporter": "python",
   "pygments_lexer": "ipython3",
   "version": "3.8.8"
  }
 },
 "nbformat": 4,
 "nbformat_minor": 5
}
