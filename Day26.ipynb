{
 "cells": [
  {
   "cell_type": "markdown",
   "id": "2e73b196",
   "metadata": {},
   "source": [
    " Write a Python program to select an item randomly from a list."
   ]
  },
  {
   "cell_type": "code",
   "execution_count": 1,
   "id": "956e0201",
   "metadata": {},
   "outputs": [
    {
     "name": "stdout",
     "output_type": "stream",
     "text": [
      "55\n"
     ]
    }
   ],
   "source": [
    "import random\n",
    "l=[11,22,33,44,55]\n",
    "print(random.choice(l))"
   ]
  },
  {
   "cell_type": "markdown",
   "id": "92b7b1a9",
   "metadata": {},
   "source": [
    "Write a Python program to find the second smallest number in a list. "
   ]
  },
  {
   "cell_type": "code",
   "execution_count": 2,
   "id": "fb7297c8",
   "metadata": {},
   "outputs": [
    {
     "name": "stdout",
     "output_type": "stream",
     "text": [
      "23\n"
     ]
    }
   ],
   "source": [
    "n = [12,23,43,56]\n",
    "a=set()\n",
    "l =[]\n",
    "\n",
    "\n",
    "for i in n:\n",
    "    if i not in a:\n",
    "        l.append(i)\n",
    "        a.add(i)\n",
    "        \n",
    "        \n",
    "l.sort()\n",
    "print(l[1])"
   ]
  },
  {
   "cell_type": "code",
   "execution_count": null,
   "id": "5d9d64ae",
   "metadata": {},
   "outputs": [],
   "source": []
  }
 ],
 "metadata": {
  "kernelspec": {
   "display_name": "Python 3",
   "language": "python",
   "name": "python3"
  },
  "language_info": {
   "codemirror_mode": {
    "name": "ipython",
    "version": 3
   },
   "file_extension": ".py",
   "mimetype": "text/x-python",
   "name": "python",
   "nbconvert_exporter": "python",
   "pygments_lexer": "ipython3",
   "version": "3.8.8"
  }
 },
 "nbformat": 4,
 "nbformat_minor": 5
}
