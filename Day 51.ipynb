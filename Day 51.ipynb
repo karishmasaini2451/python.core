{
 "cells": [
  {
   "cell_type": "markdown",
   "id": "c4041d1f",
   "metadata": {},
   "source": [
    "write a program to using a while loop to check if the number between 3000 and 3030 is divisible by 5 and 7 . \n",
    "If the number is divisible by both then stop the itration."
   ]
  },
  {
   "cell_type": "code",
   "execution_count": 1,
   "id": "f4696400",
   "metadata": {},
   "outputs": [
    {
     "name": "stdout",
     "output_type": "stream",
     "text": [
      "3000\n",
      "3003\n",
      "3005\n"
     ]
    }
   ],
   "source": [
    "i=2999\n",
    "while i<3030:\n",
    "    i=i+1\n",
    "    if i %5==0 and i % 7==0:\n",
    "        break\n",
    "    elif i % 5==0:\n",
    "        print(i)\n",
    "    elif i % 7==0:\n",
    "        print(i)"
   ]
  }
 ],
 "metadata": {
  "kernelspec": {
   "display_name": "Python 3",
   "language": "python",
   "name": "python3"
  },
  "language_info": {
   "codemirror_mode": {
    "name": "ipython",
    "version": 3
   },
   "file_extension": ".py",
   "mimetype": "text/x-python",
   "name": "python",
   "nbconvert_exporter": "python",
   "pygments_lexer": "ipython3",
   "version": "3.8.8"
  }
 },
 "nbformat": 4,
 "nbformat_minor": 5
}
