{
 "cells": [
  {
   "cell_type": "markdown",
   "id": "f25e9b40",
   "metadata": {},
   "source": [
    "Define a function which counts vowels and consonant in a word."
   ]
  },
  {
   "cell_type": "code",
   "execution_count": 1,
   "id": "1326bc2d",
   "metadata": {},
   "outputs": [
    {
     "name": "stdout",
     "output_type": "stream",
     "text": [
      "6 count of consonant\n",
      "2 count of vowels\n"
     ]
    }
   ],
   "source": [
    "def func(n):\n",
    "    c=0\n",
    "    v=0\n",
    "    for i in range(len(n)):\n",
    "        if n[i] in['a'or 'e'or'i'or'o'or'u']:\n",
    "            v=v+1\n",
    "        else:\n",
    "            c = c+1\n",
    "            \n",
    "    print(c,'count of consonant')\n",
    "    print(v,'count of vowels')\n",
    "            \n",
    "func('karishma')"
   ]
  }
 ],
 "metadata": {
  "kernelspec": {
   "display_name": "Python 3",
   "language": "python",
   "name": "python3"
  },
  "language_info": {
   "codemirror_mode": {
    "name": "ipython",
    "version": 3
   },
   "file_extension": ".py",
   "mimetype": "text/x-python",
   "name": "python",
   "nbconvert_exporter": "python",
   "pygments_lexer": "ipython3",
   "version": "3.8.8"
  }
 },
 "nbformat": 4,
 "nbformat_minor": 5
}
