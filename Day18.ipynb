{
 "cells": [
  {
   "cell_type": "markdown",
   "id": "9d4fe246",
   "metadata": {},
   "source": [
    "Write a Python script to sort (ascending and descending) a dictionary by value."
   ]
  },
  {
   "cell_type": "code",
   "execution_count": 1,
   "id": "aa60dd31",
   "metadata": {},
   "outputs": [
    {
     "name": "stdout",
     "output_type": "stream",
     "text": [
      "[1, 3, 4, 6]\n"
     ]
    }
   ],
   "source": [
    "#ascending order\n",
    "d = {1:2,6:3,3:4,4:5}\n",
    "n = sorted(d,key = lambda x:x)\n",
    "print(n)"
   ]
  },
  {
   "cell_type": "code",
   "execution_count": 2,
   "id": "ac465f04",
   "metadata": {},
   "outputs": [
    {
     "name": "stdout",
     "output_type": "stream",
     "text": [
      "[6, 4, 2, 1]\n"
     ]
    }
   ],
   "source": [
    "#decending order\n",
    "d= {1:2,2:3,6:4,4:5}\n",
    "n = sorted(d,key = lambda x :x,reverse = True)\n",
    "print(n)"
   ]
  },
  {
   "cell_type": "markdown",
   "id": "69786960",
   "metadata": {},
   "source": [
    "write a program to add a new items in a dictionary"
   ]
  },
  {
   "cell_type": "code",
   "execution_count": 3,
   "id": "daae72d9",
   "metadata": {},
   "outputs": [
    {
     "name": "stdout",
     "output_type": "stream",
     "text": [
      "{1: 2, 10: 4}\n",
      "{1: 2, 10: 4, 5: 7}\n"
     ]
    }
   ],
   "source": [
    "d = {1:2,10:4}\n",
    "print(d)\n",
    "d.update({5:7})\n",
    "print(d)"
   ]
  }
 ],
 "metadata": {
  "kernelspec": {
   "display_name": "Python 3",
   "language": "python",
   "name": "python3"
  },
  "language_info": {
   "codemirror_mode": {
    "name": "ipython",
    "version": 3
   },
   "file_extension": ".py",
   "mimetype": "text/x-python",
   "name": "python",
   "nbconvert_exporter": "python",
   "pygments_lexer": "ipython3",
   "version": "3.8.8"
  }
 },
 "nbformat": 4,
 "nbformat_minor": 5
}
