{
 "cells": [
  {
   "cell_type": "markdown",
   "id": "29eb2b6b",
   "metadata": {},
   "source": [
    " Define a function that accepts radius and returns the area of a circle."
   ]
  },
  {
   "cell_type": "code",
   "execution_count": 1,
   "id": "7c3947d0",
   "metadata": {},
   "outputs": [
    {
     "data": {
      "text/plain": [
       "50.24"
      ]
     },
     "execution_count": 1,
     "metadata": {},
     "output_type": "execute_result"
    }
   ],
   "source": [
    "def func(n):\n",
    "    return 3.14 *n*n\n",
    "\n",
    "func(4)"
   ]
  },
  {
   "cell_type": "markdown",
   "id": "2a4056db",
   "metadata": {},
   "source": [
    "Write a program to calculate the electricity bill (accept number of unit from user) according to the \n",
    "following criteria : \n",
    "Unit Price First 100 units no charge Next 100 units Rs 5 per unit After 200 units Rs 10 per unit \n",
    "(For example if input unit is 350 than total bill amount is Rs2000)"
   ]
  },
  {
   "cell_type": "code",
   "execution_count": 2,
   "id": "633a43aa",
   "metadata": {},
   "outputs": [
    {
     "name": "stdout",
     "output_type": "stream",
     "text": [
      "enter a units: 350\n",
      "amount to be paid: 2000\n"
     ]
    }
   ],
   "source": [
    "units = int(input('enter a units: '))\n",
    "amount = 0\n",
    "if units<100:\n",
    "    amount =0\n",
    "elif units>100 and units<200:\n",
    "    amount = (units - 100)*5\n",
    "elif units >200:\n",
    "    amount= 500+(units -200)*10\n",
    "print('amount to be paid:',amount)\n",
    "    "
   ]
  }
 ],
 "metadata": {
  "kernelspec": {
   "display_name": "Python 3",
   "language": "python",
   "name": "python3"
  },
  "language_info": {
   "codemirror_mode": {
    "name": "ipython",
    "version": 3
   },
   "file_extension": ".py",
   "mimetype": "text/x-python",
   "name": "python",
   "nbconvert_exporter": "python",
   "pygments_lexer": "ipython3",
   "version": "3.8.8"
  }
 },
 "nbformat": 4,
 "nbformat_minor": 5
}
