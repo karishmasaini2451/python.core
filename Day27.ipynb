{
 "cells": [
  {
   "cell_type": "markdown",
   "id": "f9783704",
   "metadata": {},
   "source": [
    "Write a Python program to find the second largest number in a list. "
   ]
  },
  {
   "cell_type": "code",
   "execution_count": 3,
   "id": "f1768f20",
   "metadata": {},
   "outputs": [
    {
     "name": "stdout",
     "output_type": "stream",
     "text": [
      "43\n"
     ]
    }
   ],
   "source": [
    "n = [12,23,43,56]\n",
    "a=set()\n",
    "l =[]\n",
    "\n",
    "\n",
    "for i in n:\n",
    "    if i not in a:\n",
    "        l.append(i)\n",
    "        a.add(i)\n",
    "        \n",
    "l.sort()\n",
    "print(l[-2])"
   ]
  },
  {
   "cell_type": "markdown",
   "id": "6f8c31c7",
   "metadata": {},
   "source": [
    "Write a Python program to get unique values from a list. "
   ]
  },
  {
   "cell_type": "code",
   "execution_count": 4,
   "id": "7cf10a80",
   "metadata": {},
   "outputs": [
    {
     "name": "stdout",
     "output_type": "stream",
     "text": [
      "[12, 23, 43, 56]\n"
     ]
    }
   ],
   "source": [
    "n = [12,23,43,56,56]\n",
    "a=set()\n",
    "l =[]\n",
    "\n",
    "\n",
    "for i in n:\n",
    "    if i not in a:\n",
    "        l.append(i)\n",
    "        a.add(i)\n",
    "print(l)"
   ]
  }
 ],
 "metadata": {
  "kernelspec": {
   "display_name": "Python 3",
   "language": "python",
   "name": "python3"
  },
  "language_info": {
   "codemirror_mode": {
    "name": "ipython",
    "version": 3
   },
   "file_extension": ".py",
   "mimetype": "text/x-python",
   "name": "python",
   "nbconvert_exporter": "python",
   "pygments_lexer": "ipython3",
   "version": "3.8.8"
  }
 },
 "nbformat": 4,
 "nbformat_minor": 5
}
