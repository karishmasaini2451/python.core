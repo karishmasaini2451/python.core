{
 "cells": [
  {
   "cell_type": "markdown",
   "id": "5228707c",
   "metadata": {},
   "source": [
    "Write a program that calculates and prints the value according to the given formula:\n",
    "Q = Square root of [(2 C D)/H]\n",
    "\n",
    "Following are the fixed values of C and H: C is 50. H is 30.\n",
    "D is the variable whose values should be input to your program in a comma-separated sequence.\n",
    "Let us assume the following comma separated input sequence is given to the program: 100,150,180\n",
    "The output of the program should be: 18, 22, 24"
   ]
  },
  {
   "cell_type": "code",
   "execution_count": 2,
   "id": "1ef47340",
   "metadata": {},
   "outputs": [
    {
     "name": "stdout",
     "output_type": "stream",
     "text": [
      "Enter your number: 100,150,180\n"
     ]
    }
   ],
   "source": [
    "D = input('Enter your number: ').split(',')\n",
    "C = 50\n",
    "H = 30\n"
   ]
  },
  {
   "cell_type": "code",
   "execution_count": 3,
   "id": "a21af4aa",
   "metadata": {},
   "outputs": [
    {
     "name": "stdout",
     "output_type": "stream",
     "text": [
      "18, 22, 24\n"
     ]
    }
   ],
   "source": [
    "import math\n",
    "l = []\n",
    "\n",
    "for i in D:\n",
    "    X = int(i)\n",
    "    Q = (2 * C * X) / H\n",
    "    l.append(str(round(math.sqrt(Q))))\n",
    "    \n",
    "print (', '.join(l))"
   ]
  }
 ],
 "metadata": {
  "kernelspec": {
   "display_name": "Python 3",
   "language": "python",
   "name": "python3"
  },
  "language_info": {
   "codemirror_mode": {
    "name": "ipython",
    "version": 3
   },
   "file_extension": ".py",
   "mimetype": "text/x-python",
   "name": "python",
   "nbconvert_exporter": "python",
   "pygments_lexer": "ipython3",
   "version": "3.8.8"
  }
 },
 "nbformat": 4,
 "nbformat_minor": 5
}
